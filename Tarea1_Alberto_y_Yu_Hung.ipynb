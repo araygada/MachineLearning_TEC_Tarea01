## Tarea-1
# Aprendizaje automático
# Tarea-1

Prof. Felipe Meza Obando,
Instituto Tecnológico de Costa Rica, 

Medio de entrega: Link de GitHub

Entregables: Un archivo jupyter ( .IPYNB ). 

Modo de trabajo: Parejas:
Estudiantes:

Yu Hung Yeh

José Alberto Raygada Agüero

---

Objetivo
El objetivo de esta Tarea 1 consiste en normalizar y estandarizar el set
de datos de daily-min-temperatures.csv de forma manual y automática a partir de scikit-learn
o la librería que considere apropiada.

---

### Primero cargamos las librerías y funciones propias
# !pip install torch

%matplotlib inline

import matplotlib.pyplot as plt
import pandas as pd
import numpy as np
import sklearn
from sklearn.preprocessing import MinMaxScaler
import sklearn.preprocessing
import torch as torch


#Funciones
def bold(t):
    """
    Funcion para formatear en negrita el texto.
    t = cualquier dato
    """
    return "\033[1m" + str(t) + "\033[0m"

def newline():
    """
    Funcion para imprimir cambio de linea
    """
    print("\r\n")
    

### Luego cargamos el archivo como un dataframe de csv
df = pd.read_csv(r"daily-min-temperatures.txt")
df.head()
### Se selecciona únicamente la columna de temperatura que es el dato que podemos estandarizar
print(bold("Features"))
print("----------------------------------------------")
newline()    

feature = df[["Temp"]]

print(feature)

### Normalización y estandarización automática
print(bold("Resultado automático"))
print("----------------------------------------------")
newline()

scaler = MinMaxScaler()
nombreColumnas = feature.columns.to_numpy()
datosEscalados = pd.DataFrame(scaler.fit_transform(feature), columns = nombreColumnas)

print(datosEscalados)

### Normalización y estandarización manual
#Funciones manuales de normalizar y estandarizar
def normalizar(datos):
    """
    Funcion para normalizar set de datos
    datos = set de datos
    """
    minimo = datos.min()
    maximo = datos.max()

    normalizado = (datos - minimo) / (maximo - minimo)
    return normalizado

def estandarizar(datos):
    """
    Funcion para estandarizar set de datos
    datos = set de datos
    """
    promedio = datos.mean()
    desv_std = datos.std()
    estandarizado = (datos - promedio) / desv_std
    return estandarizado
print(bold("Resultado manual"))
print("----------------------------------------------")
newline()  

print(normalizar(estandarizar(feature)))
