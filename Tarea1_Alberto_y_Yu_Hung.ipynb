{
 "cells": [
  {
   "cell_type": "markdown",
   "id": "86cc6269",
   "metadata": {},
   "source": [
    "## Tarea-1"
   ]
  },
  {
   "cell_type": "markdown",
   "id": "d85747bb",
   "metadata": {},
   "source": [
    "# Aprendizaje automático\n",
    "# Tarea-1\n",
    "\n",
    "Prof. Felipe Meza Obando,\n",
    "Instituto Tecnológico de Costa Rica, \n",
    "\n",
    "Medio de entrega: Link de GitHub\n",
    "\n",
    "Entregables: Un archivo jupyter ( .IPYNB ). \n",
    "\n",
    "Modo de trabajo: Parejas:\n",
    "Estudiantes:\n",
    "\n",
    "Yu Hung Yeh\n",
    "\n",
    "José Alberto Raygada Agüero\n",
    "\n",
    "---\n",
    "\n",
    "Objetivo\n",
    "El objetivo de esta Tarea 1 consiste en normalizar y estandarizar el set\n",
    "de datos de daily-min-temperatures.csv de forma manual y automática a partir de scikit-learn\n",
    "o la librería que considere apropiada.\n",
    "\n",
    "---\n"
   ]
  },
  {
   "cell_type": "markdown",
   "id": "23107090",
   "metadata": {},
   "source": [
    "### Primero cargamos las librerías y funciones propias"
   ]
  },
  {
   "cell_type": "code",
   "execution_count": 1,
   "id": "c1799847",
   "metadata": {},
   "outputs": [],
   "source": [
    "# !pip install torch\n",
    "\n",
    "%matplotlib inline\n",
    "\n",
    "import matplotlib.pyplot as plt\n",
    "import pandas as pd\n",
    "import numpy as np\n",
    "import sklearn\n",
    "from sklearn.preprocessing import MinMaxScaler\n",
    "import sklearn.preprocessing\n",
    "import torch as torch\n",
    "\n",
    "\n",
    "#Funciones\n",
    "def bold(t):\n",
    "    \"\"\"\n",
    "    Funcion para formatear en negrita el texto.\n",
    "    t = cualquier dato\n",
    "    \"\"\"\n",
    "    return \"\\033[1m\" + str(t) + \"\\033[0m\"\n",
    "\n",
    "def newline():\n",
    "    \"\"\"\n",
    "    Funcion para imprimir cambio de linea\n",
    "    \"\"\"\n",
    "    print(\"\\r\\n\")\n",
    "    \n"
   ]
  },
  {
   "cell_type": "markdown",
   "id": "7654529d",
   "metadata": {},
   "source": [
    "### Luego cargamos el archivo como un dataframe de csv"
   ]
  },
  {
   "cell_type": "code",
   "execution_count": 2,
   "id": "e066b9b3",
   "metadata": {
    "scrolled": true
   },
   "outputs": [
    {
     "data": {
      "text/html": [
       "<div>\n",
       "<style scoped>\n",
       "    .dataframe tbody tr th:only-of-type {\n",
       "        vertical-align: middle;\n",
       "    }\n",
       "\n",
       "    .dataframe tbody tr th {\n",
       "        vertical-align: top;\n",
       "    }\n",
       "\n",
       "    .dataframe thead th {\n",
       "        text-align: right;\n",
       "    }\n",
       "</style>\n",
       "<table border=\"1\" class=\"dataframe\">\n",
       "  <thead>\n",
       "    <tr style=\"text-align: right;\">\n",
       "      <th></th>\n",
       "      <th>Date</th>\n",
       "      <th>Temp</th>\n",
       "    </tr>\n",
       "  </thead>\n",
       "  <tbody>\n",
       "    <tr>\n",
       "      <th>0</th>\n",
       "      <td>1981-01-01</td>\n",
       "      <td>20.7</td>\n",
       "    </tr>\n",
       "    <tr>\n",
       "      <th>1</th>\n",
       "      <td>1981-01-02</td>\n",
       "      <td>17.9</td>\n",
       "    </tr>\n",
       "    <tr>\n",
       "      <th>2</th>\n",
       "      <td>1981-01-03</td>\n",
       "      <td>18.8</td>\n",
       "    </tr>\n",
       "    <tr>\n",
       "      <th>3</th>\n",
       "      <td>1981-01-04</td>\n",
       "      <td>14.6</td>\n",
       "    </tr>\n",
       "    <tr>\n",
       "      <th>4</th>\n",
       "      <td>1981-01-05</td>\n",
       "      <td>15.8</td>\n",
       "    </tr>\n",
       "  </tbody>\n",
       "</table>\n",
       "</div>"
      ],
      "text/plain": [
       "         Date  Temp\n",
       "0  1981-01-01  20.7\n",
       "1  1981-01-02  17.9\n",
       "2  1981-01-03  18.8\n",
       "3  1981-01-04  14.6\n",
       "4  1981-01-05  15.8"
      ]
     },
     "execution_count": 2,
     "metadata": {},
     "output_type": "execute_result"
    }
   ],
   "source": [
    "df = pd.read_csv(r\"daily-min-temperatures.txt\")\n",
    "df.head()"
   ]
  },
  {
   "cell_type": "markdown",
   "id": "fd418edd",
   "metadata": {},
   "source": [
    "### Se selecciona únicamente la columna de temperatura que es el dato que podemos estandarizar"
   ]
  },
  {
   "cell_type": "code",
   "execution_count": 3,
   "id": "11b555e4",
   "metadata": {},
   "outputs": [
    {
     "name": "stdout",
     "output_type": "stream",
     "text": [
      "\u001b[1mFeatures\u001b[0m\n",
      "----------------------------------------------\n",
      "\r\n",
      "\n",
      "      Temp\n",
      "0     20.7\n",
      "1     17.9\n",
      "2     18.8\n",
      "3     14.6\n",
      "4     15.8\n",
      "...    ...\n",
      "3645  14.0\n",
      "3646  13.6\n",
      "3647  13.5\n",
      "3648  15.7\n",
      "3649  13.0\n",
      "\n",
      "[3650 rows x 1 columns]\n"
     ]
    }
   ],
   "source": [
    "print(bold(\"Features\"))\n",
    "print(\"----------------------------------------------\")\n",
    "newline()    \n",
    "\n",
    "feature = df[[\"Temp\"]]\n",
    "\n",
    "print(feature)\n"
   ]
  },
  {
   "cell_type": "markdown",
   "id": "5addf1a0",
   "metadata": {},
   "source": [
    "### Normalización y estandarización automática"
   ]
  },
  {
   "cell_type": "code",
   "execution_count": 4,
   "id": "b78e975f",
   "metadata": {},
   "outputs": [
    {
     "name": "stdout",
     "output_type": "stream",
     "text": [
      "\u001b[1mResultado automático\u001b[0m\n",
      "----------------------------------------------\n",
      "\r\n",
      "\n",
      "          Temp\n",
      "0     0.787072\n",
      "1     0.680608\n",
      "2     0.714829\n",
      "3     0.555133\n",
      "4     0.600760\n",
      "...        ...\n",
      "3645  0.532319\n",
      "3646  0.517110\n",
      "3647  0.513308\n",
      "3648  0.596958\n",
      "3649  0.494297\n",
      "\n",
      "[3650 rows x 1 columns]\n"
     ]
    }
   ],
   "source": [
    "print(bold(\"Resultado automático\"))\n",
    "print(\"----------------------------------------------\")\n",
    "newline()\n",
    "\n",
    "scaler = MinMaxScaler()\n",
    "nombreColumnas = feature.columns.to_numpy()\n",
    "datosEscalados = pd.DataFrame(scaler.fit_transform(feature), columns = nombreColumnas)\n",
    "\n",
    "print(datosEscalados)\n"
   ]
  },
  {
   "cell_type": "markdown",
   "id": "4f04e7b9",
   "metadata": {},
   "source": [
    "### Normalización y estandarización manual"
   ]
  },
  {
   "cell_type": "code",
   "execution_count": 5,
   "id": "739e4151",
   "metadata": {},
   "outputs": [],
   "source": [
    "#Funciones manuales de normalizar y estandarizar\n",
    "def normalizar(datos):\n",
    "    \"\"\"\n",
    "    Funcion para normalizar set de datos\n",
    "    datos = set de datos\n",
    "    \"\"\"\n",
    "    minimo = datos.min()\n",
    "    maximo = datos.max()\n",
    "\n",
    "    normalizado = (datos - minimo) / (maximo - minimo)\n",
    "    return normalizado\n",
    "\n",
    "def estandarizar(datos):\n",
    "    \"\"\"\n",
    "    Funcion para estandarizar set de datos\n",
    "    datos = set de datos\n",
    "    \"\"\"\n",
    "    promedio = datos.mean()\n",
    "    desv_std = datos.std()\n",
    "    estandarizado = (datos - promedio) / desv_std\n",
    "    return estandarizado"
   ]
  },
  {
   "cell_type": "code",
   "execution_count": 6,
   "id": "26a389f6",
   "metadata": {},
   "outputs": [
    {
     "name": "stdout",
     "output_type": "stream",
     "text": [
      "\u001b[1mResultado manual\u001b[0m\n",
      "----------------------------------------------\n",
      "\r\n",
      "\n",
      "          Temp\n",
      "0     0.787072\n",
      "1     0.680608\n",
      "2     0.714829\n",
      "3     0.555133\n",
      "4     0.600760\n",
      "...        ...\n",
      "3645  0.532319\n",
      "3646  0.517110\n",
      "3647  0.513308\n",
      "3648  0.596958\n",
      "3649  0.494297\n",
      "\n",
      "[3650 rows x 1 columns]\n"
     ]
    }
   ],
   "source": [
    "print(bold(\"Resultado manual\"))\n",
    "print(\"----------------------------------------------\")\n",
    "newline()  \n",
    "\n",
    "print(normalizar(estandarizar(feature)))"
   ]
  },
  {
   "cell_type": "code",
   "execution_count": null,
   "id": "f2f6d7ed",
   "metadata": {},
   "outputs": [],
   "source": []
  }
 ],
 "metadata": {
  "kernelspec": {
   "display_name": "Python 3",
   "language": "python",
   "name": "python3"
  },
  "language_info": {
   "codemirror_mode": {
    "name": "ipython",
    "version": 3
   },
   "file_extension": ".py",
   "mimetype": "text/x-python",
   "name": "python",
   "nbconvert_exporter": "python",
   "pygments_lexer": "ipython3",
   "version": "3.9.0"
  }
 },
 "nbformat": 4,
 "nbformat_minor": 5
}
